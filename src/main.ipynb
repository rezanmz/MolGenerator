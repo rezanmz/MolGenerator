{
 "cells": [
  {
   "cell_type": "markdown",
   "id": "ed400b2a-4f31-4565-ab0b-c638509a5d84",
   "metadata": {
    "tags": []
   },
   "source": [
    "# Imports"
   ]
  },
  {
   "cell_type": "code",
   "execution_count": 1,
   "id": "4bdf5477-9b95-4810-9ae0-511cf0d8ce03",
   "metadata": {
    "tags": []
   },
   "outputs": [],
   "source": [
    "import torch.nn as nn\n",
    "from torch_geometric.nn import DenseGCNConv\n",
    "from torch_geometric.datasets import ZINC\n",
    "from torch_geometric.utils import to_dense_adj\n",
    "import torch\n",
    "from torch.utils.data import DataLoader, TensorDataset\n",
    "from tqdm import tqdm\n",
    "from matplotlib import pyplot as plt"
   ]
  },
  {
   "cell_type": "code",
   "execution_count": 2,
   "id": "1808435e-e332-4e19-ac98-a1f8b774f81f",
   "metadata": {},
   "outputs": [],
   "source": [
    "device = 'cuda' if torch.cuda.is_available() else 'cpu'"
   ]
  },
  {
   "cell_type": "markdown",
   "id": "a655a77c-5ec7-4038-b7b7-cc185ded94c7",
   "metadata": {
    "tags": []
   },
   "source": [
    "# RealNVP"
   ]
  },
  {
   "cell_type": "markdown",
   "id": "955d39c8-63c2-4cb3-b01a-7bfbcbf30c87",
   "metadata": {
    "tags": []
   },
   "source": [
    "## Fully connected neural network for the base network"
   ]
  },
  {
   "cell_type": "code",
   "execution_count": 3,
   "id": "9787faeb-54e5-46bd-aa90-34c7c792f20f",
   "metadata": {
    "tags": []
   },
   "outputs": [],
   "source": [
    "class FCNN(nn.Module):\n",
    "    def __init__(self, in_dim, out_dim, hidden_dim):\n",
    "        super().__init__()\n",
    "        self.network = nn.Sequential(\n",
    "            nn.Linear(in_dim, hidden_dim),\n",
    "            nn.Tanh(),\n",
    "            nn.Linear(hidden_dim, hidden_dim),\n",
    "            nn.Tanh(),\n",
    "            nn.Linear(hidden_dim, out_dim),\n",
    "        )\n",
    "        \n",
    "    def forward(self, x):\n",
    "        return self.network(x)"
   ]
  },
  {
   "cell_type": "markdown",
   "id": "0ecf98c3-d87d-47ba-91e1-59b7c40ad976",
   "metadata": {
    "tags": []
   },
   "source": [
    "## Flow"
   ]
  },
  {
   "cell_type": "code",
   "execution_count": 4,
   "id": "d35c7c86-870e-4e9c-b555-a6c699d5a14f",
   "metadata": {
    "tags": []
   },
   "outputs": [],
   "source": [
    "class RealNVP(nn.Module):\n",
    "    def __init__(self, dim, hidden_dim=8, base_network=FCNN):\n",
    "        super().__init__()\n",
    "        self.dim = dim\n",
    "        self.t1 = base_network(dim // 2, dim // 2, hidden_dim)\n",
    "        self.s1 = base_network(dim // 2, dim // 2, hidden_dim)\n",
    "        self.t2 = base_network(dim // 2, dim // 2, hidden_dim)\n",
    "        self.s2 = base_network(dim // 2, dim // 2, hidden_dim)\n",
    "\n",
    "    def forward(self, x):\n",
    "        lower, upper = x[:, :self.dim // 2], x[:, self.dim // 2:]\n",
    "        t1_transformed = self.t1(lower)\n",
    "        s1_transformed = self.s1(lower)\n",
    "        upper = t1_transformed + upper * torch.exp(s1_transformed)\n",
    "        t2_transformed = self.t2(upper)\n",
    "        s2_transformed = self.s2(upper)\n",
    "        lower = t2_transformed + lower * torch.exp(s2_transformed)\n",
    "        z = torch.cat([lower, upper], dim=1)\n",
    "        log_det = torch.sum(s1_transformed, dim=1) + torch.sum(s2_transformed, dim=1)\n",
    "        return z, log_det\n",
    "\n",
    "    def inverse(self, z):\n",
    "        lower, upper = z[:, :self.dim // 2], z[:, self.dim // 2:]\n",
    "        t2_transformed = self.t2(upper)\n",
    "        s2_transformed = self.s2(upper)\n",
    "        lower = (lower - t2_transformed) * torch.exp(-s2_transformed)\n",
    "        t1_transformed = self.t1(lower)\n",
    "        s1_transformed = self.s1(lower)\n",
    "        upper = (upper - t1_transformed) * torch.exp(-s1_transformed)\n",
    "        x = torch.cat([lower, upper], dim=1)\n",
    "        log_det = torch.sum(-s1_transformed, dim=1) + torch.sum(-s2_transformed, dim=1)\n",
    "        return x, log_det"
   ]
  },
  {
   "cell_type": "markdown",
   "id": "1b1414f2-d767-42e2-b5ad-b6ee8477a463",
   "metadata": {
    "tags": []
   },
   "source": [
    "# GAN"
   ]
  },
  {
   "cell_type": "markdown",
   "id": "bf68385a-929d-498b-8658-f43e11937922",
   "metadata": {},
   "source": [
    "## Generator"
   ]
  },
  {
   "cell_type": "code",
   "execution_count": 5,
   "id": "b74a3a69-f9f3-4fbc-9c5e-9f0dd6d818f1",
   "metadata": {
    "tags": []
   },
   "outputs": [],
   "source": [
    "class Generator(nn.Module):\n",
    "    def __init__(\n",
    "        self,\n",
    "        input_dim,\n",
    "        num_nodes,\n",
    "        num_features, \n",
    "        num_edge_types,\n",
    "    ):\n",
    "        super().__init__()\n",
    "        self.input_dim = input_dim\n",
    "        self.flow_model = RealNVP(input_dim)\n",
    "        self.num_nodes = num_nodes\n",
    "        self.num_features = num_features\n",
    "        self.num_edge_types = num_edge_types\n",
    "        \n",
    "        self.adj = nn.Linear(input_dim, num_nodes * num_nodes * (num_edge_types + 1))\n",
    "        self.feat = nn.Linear(input_dim, num_nodes * num_features)\n",
    "        \n",
    "    def forward(self, x):\n",
    "        z, _ = self.flow_model(x)\n",
    "        \n",
    "        adj = self.adj(z).view(x.shape[0], self.num_nodes, self.num_nodes, self.num_edge_types + 1)\n",
    "        adj = torch.nn.functional.gumbel_softmax(adj, hard=True)\n",
    "        \n",
    "        feat = self.feat(z).view(x.shape[0], self.num_nodes, self.num_features)\n",
    "        feat = torch.nn.functional.gumbel_softmax(feat, hard=True)\n",
    "        \n",
    "        \n",
    "        return adj, feat"
   ]
  },
  {
   "cell_type": "markdown",
   "id": "26ead078-1f8f-4a2a-8d9d-c6ee03f8abc8",
   "metadata": {},
   "source": [
    "## Discriminator"
   ]
  },
  {
   "cell_type": "code",
   "execution_count": 6,
   "id": "22fcf098-1146-4fbc-b461-a8e6b3a48201",
   "metadata": {
    "tags": []
   },
   "outputs": [],
   "source": [
    "class Discriminator(nn.Module):\n",
    "    def __init__(self, num_features, num_edge_types):\n",
    "        super().__init__()\n",
    "        self.gcns = nn.ModuleList([\n",
    "            DenseGCNConv(num_features, 1) for _ in range(num_edge_types)\n",
    "        ])\n",
    "        self.activation = torch.nn.Sigmoid()\n",
    "        \n",
    "    def forward(self, adj, x):\n",
    "        out = self.gcns[0](x, (adj[:, :, :, 0] - 1).abs())\n",
    "        for edge_type, gcn in enumerate(self.gcns[1:]):\n",
    "            out += gcn(x, adj[:, :, :, edge_type + 1])\n",
    "        return self.activation(out.mean(1))"
   ]
  },
  {
   "cell_type": "markdown",
   "id": "3dba5ded-48e3-4cfd-8399-c8f5f620bd86",
   "metadata": {},
   "source": [
    "## Reward Network"
   ]
  },
  {
   "cell_type": "code",
   "execution_count": 7,
   "id": "aaaba705-1829-4f40-b712-ca2055aa1b3f",
   "metadata": {},
   "outputs": [],
   "source": [
    "class RewardNetwork(nn.Module):\n",
    "    def __init__(self, num_features, num_edge_types):\n",
    "        super().__init__()\n",
    "        self.gcns = nn.ModuleList([\n",
    "            DenseGCNConv(num_features, 1) for _ in range(num_edge_types)\n",
    "        ])\n",
    "        self.activation = torch.nn.Sigmoid()\n",
    "        \n",
    "    def forward(self, adj, x):\n",
    "        out = self.gcns[0](x, (adj[:, :, :, 0] - 1).abs())\n",
    "        for edge_type, gcn in enumerate(self.gcns[1:]):\n",
    "            out += gcn(x, adj[:, :, :, edge_type + 1])\n",
    "        return self.activation(out.mean())"
   ]
  },
  {
   "cell_type": "markdown",
   "id": "948dd522-b2df-4dbe-9557-c6896b0955c9",
   "metadata": {},
   "source": [
    "# Rewards"
   ]
  },
  {
   "cell_type": "code",
   "execution_count": 8,
   "id": "fa6e42dc-6b1e-44f2-b94b-3d4ed18f0fd9",
   "metadata": {},
   "outputs": [],
   "source": [
    "def validity_score(predictions):\n",
    "    predictions[predictions > 0.5] = 1\n",
    "    predictions[predictions <= 0.5] = 0\n",
    "    return predictions.sum() / predictions.size(0)"
   ]
  },
  {
   "cell_type": "markdown",
   "id": "dcdbf62a-b1e9-4e79-b916-48455ebfaeec",
   "metadata": {
    "tags": []
   },
   "source": [
    "# Train"
   ]
  },
  {
   "cell_type": "markdown",
   "id": "ca701f47-6b98-48ad-8ca7-ad3b76f25dc5",
   "metadata": {
    "tags": []
   },
   "source": [
    "## Load dataset"
   ]
  },
  {
   "cell_type": "code",
   "execution_count": 9,
   "id": "8a41e64a-e351-4b62-94b0-d543eccca6c8",
   "metadata": {
    "tags": []
   },
   "outputs": [],
   "source": [
    "dataset = ZINC('../dataset')"
   ]
  },
  {
   "cell_type": "markdown",
   "id": "5e43aea0-60ad-4bd7-9d0f-fb977c8aafa3",
   "metadata": {},
   "source": [
    "### For now, filter molecules to have the same number of atoms"
   ]
  },
  {
   "cell_type": "code",
   "execution_count": 10,
   "id": "88bec322-0fcb-4831-b552-63fbe6b8d2d8",
   "metadata": {
    "tags": []
   },
   "outputs": [],
   "source": [
    "num_nodes = {}\n",
    "for mol in dataset:\n",
    "    if mol.num_nodes not in num_nodes:\n",
    "        num_nodes[mol.num_nodes] = 0\n",
    "    num_nodes[mol.num_nodes] += 1\n",
    "\n",
    "# Select size which has the most samples in the dataset\n",
    "most_samples = sorted(num_nodes, key=num_nodes.get, reverse=True)[0]\n",
    "\n",
    "# Filter\n",
    "dataset = list(filter(lambda mol: mol.num_nodes == most_samples, dataset))"
   ]
  },
  {
   "cell_type": "markdown",
   "id": "0c3aee5b-ef99-4138-b510-7cad2d49ac2f",
   "metadata": {},
   "source": [
    "### Convert atom type to one-hot vector"
   ]
  },
  {
   "cell_type": "code",
   "execution_count": 11,
   "id": "951093f4-8b85-4a78-b4ec-66249653ca77",
   "metadata": {},
   "outputs": [],
   "source": [
    "# Find out how many types of atoms we have in the dataset\n",
    "num_node_types = 0\n",
    "for mol in dataset:\n",
    "    num_node_types = max(int(mol.x.max()), num_node_types)\n",
    "num_node_types += 1\n",
    "\n",
    "for mol in dataset:\n",
    "    new_x = torch.zeros(mol.num_nodes, num_node_types)\n",
    "    for i, atom_type in enumerate(mol.x):\n",
    "        new_x[i] = torch.eye(num_node_types)[atom_type]\n",
    "    mol.x = new_x"
   ]
  },
  {
   "cell_type": "markdown",
   "id": "e6ffd1dc-0c0b-4b17-b109-16c2db598be5",
   "metadata": {},
   "source": [
    "### Convert from torch geometric data to torch tensor"
   ]
  },
  {
   "cell_type": "code",
   "execution_count": 12,
   "id": "d60a5a1c-ed49-4398-a1a7-5b630adc6287",
   "metadata": {},
   "outputs": [
    {
     "name": "stderr",
     "output_type": "stream",
     "text": [
      "100%|██████████| 20444/20444 [01:33<00:00, 218.22it/s]\n"
     ]
    }
   ],
   "source": [
    "# An adjacency matrix where adj_ij = 1 if i and j don't have a bond\n",
    "real_connections = torch.stack([(~to_dense_adj(mol.edge_index)[0].bool()).float() for mol in dataset])\n",
    "\n",
    "# Adjacency matrix for a type specific bonds (each type of bond has its own adjacency matrix)\n",
    "real_type_specific_connections = {edge_type: [] for edge_type in range(1, 3 + 1)}\n",
    "for mol in tqdm(dataset):\n",
    "    for edge_type in range(1, 3 + 1):\n",
    "        try:\n",
    "            real_type_specific_connections[edge_type].append(to_dense_adj(mol.edge_index[:, torch.where(mol.edge_attr == edge_type)[0]], max_num_nodes=mol.num_nodes)[0])\n",
    "        except:\n",
    "            real_type_specific_connections[edge_type].append(torch.zeros(mol.num_nodes, mol.num_nodes))\n",
    "real_type_specific_connections = {\n",
    "    edge_type: torch.stack(real_type_specific_connections[edge_type])\n",
    "    for edge_type in range(1, 1 + 3)\n",
    "}"
   ]
  },
  {
   "cell_type": "code",
   "execution_count": 13,
   "id": "838ca326-859e-4189-9cc2-054db24938cc",
   "metadata": {},
   "outputs": [],
   "source": [
    "real_feats = torch.stack([mol.x for mol in dataset]).to(device)\n",
    "real_adj = torch.stack([real_connections, *[real_type_specific_connections[edge_type] for edge_type in range(1, 3 + 1)]], dim=-1).to(device)"
   ]
  },
  {
   "cell_type": "markdown",
   "id": "0d50a123-e084-4313-95a8-6d3fc87f8197",
   "metadata": {
    "tags": []
   },
   "source": [
    "## Initialize models"
   ]
  },
  {
   "cell_type": "code",
   "execution_count": 14,
   "id": "ccb994ec-2a48-4969-8cdc-6499758c68a1",
   "metadata": {
    "tags": []
   },
   "outputs": [],
   "source": [
    "DISTRIBUTION_DIM = 64\n",
    "MOL_SIZE = dataset[0].num_nodes\n",
    "NUM_FEATURES = dataset[0].num_node_features\n",
    "NUM_EDGE_TYPES = 3"
   ]
  },
  {
   "cell_type": "code",
   "execution_count": 15,
   "id": "67fb5d58-bc03-4455-8292-5ae4c9595057",
   "metadata": {
    "tags": []
   },
   "outputs": [],
   "source": [
    "# Gaussian distribution with mean=0 and std=1 as prior distribution\n",
    "prior = torch.distributions.MultivariateNormal(torch.zeros(DISTRIBUTION_DIM), torch.eye(DISTRIBUTION_DIM))\n",
    "\n",
    "# Generator\n",
    "generator = Generator(DISTRIBUTION_DIM, MOL_SIZE, NUM_FEATURES, NUM_EDGE_TYPES).to(device)\n",
    "\n",
    "# Discriminator\n",
    "discriminator = Discriminator(NUM_FEATURES, NUM_EDGE_TYPES).to(device)\n",
    "\n",
    "# Reward Network\n",
    "reward_network = RewardNetwork(NUM_FEATURES, NUM_EDGE_TYPES).to(device)"
   ]
  },
  {
   "cell_type": "markdown",
   "id": "5919b819-c9d1-4119-b93d-794e010ed705",
   "metadata": {},
   "source": [
    "### An example - generator receives 10 gaussian samples and generates 10 graphs, discriminator decides whether these 10 samples are real or not"
   ]
  },
  {
   "cell_type": "code",
   "execution_count": 16,
   "id": "9eda491a-4bd4-4bbe-b943-83cbbba8b8ea",
   "metadata": {},
   "outputs": [
    {
     "name": "stdout",
     "output_type": "stream",
     "text": [
      "Discriminator:\n",
      "tensor([[0.5099],\n",
      "        [0.4572],\n",
      "        [0.4435],\n",
      "        [0.5246],\n",
      "        [0.4734],\n",
      "        [0.4544],\n",
      "        [0.4726],\n",
      "        [0.4977],\n",
      "        [0.4997],\n",
      "        [0.4793]], device='cuda:0', grad_fn=<SigmoidBackward0>)\n",
      "Reward:\n",
      "tensor(0.5346, device='cuda:0', grad_fn=<SigmoidBackward0>)\n"
     ]
    }
   ],
   "source": [
    "adj, feat = generator(prior.sample((10,)).to(device))\n",
    "print('Discriminator:')\n",
    "print(discriminator(adj, feat))\n",
    "print('Reward:')\n",
    "print(reward_network(adj, feat))"
   ]
  },
  {
   "cell_type": "markdown",
   "id": "243f7d11-514d-45a1-a381-84e289dc8c01",
   "metadata": {
    "tags": []
   },
   "source": [
    "## Training loop (With early stopping on Generator loss)"
   ]
  },
  {
   "cell_type": "code",
   "execution_count": 17,
   "id": "4fd245d1-de86-447d-a9bc-1333712d1d28",
   "metadata": {
    "scrolled": true,
    "tags": []
   },
   "outputs": [
    {
     "name": "stdout",
     "output_type": "stream",
     "text": [
      "Epoch 1 - Generator loss: 1.162\tDiscriminator loss: 0.908\tReward loss: 0.258\tTotal loss: 2.329\tBest total loss: 2.329\n",
      "Epoch 2 - Generator loss: 0.894\tDiscriminator loss: 0.893\tReward loss: 0.745\tTotal loss: 2.533\tBest total loss: 2.329\n",
      "Epoch 3 - Generator loss: 1.017\tDiscriminator loss: 1.028\tReward loss: 0.510\tTotal loss: 2.556\tBest total loss: 2.329\n",
      "Epoch 4 - Generator loss: 0.513\tDiscriminator loss: 1.173\tReward loss: 0.216\tTotal loss: 1.902\tBest total loss: 1.902\n",
      "Epoch 5 - Generator loss: 0.237\tDiscriminator loss: 1.154\tReward loss: 0.090\tTotal loss: 1.480\tBest total loss: 1.480\n",
      "Epoch 6 - Generator loss: 0.160\tDiscriminator loss: 1.115\tReward loss: 0.067\tTotal loss: 1.343\tBest total loss: 1.343\n",
      "Epoch 7 - Generator loss: 0.133\tDiscriminator loss: 1.104\tReward loss: 0.055\tTotal loss: 1.292\tBest total loss: 1.292\n",
      "Epoch 8 - Generator loss: 0.117\tDiscriminator loss: 1.093\tReward loss: 0.046\tTotal loss: 1.256\tBest total loss: 1.256\n",
      "Epoch 9 - Generator loss: 0.106\tDiscriminator loss: 1.082\tReward loss: 0.041\tTotal loss: 1.229\tBest total loss: 1.229\n",
      "Epoch 10 - Generator loss: 0.098\tDiscriminator loss: 1.074\tReward loss: 0.037\tTotal loss: 1.209\tBest total loss: 1.209\n",
      "Epoch 11 - Generator loss: 0.093\tDiscriminator loss: 1.067\tReward loss: 0.033\tTotal loss: 1.192\tBest total loss: 1.192\n",
      "Epoch 12 - Generator loss: 0.088\tDiscriminator loss: 1.060\tReward loss: 0.030\tTotal loss: 1.178\tBest total loss: 1.178\n",
      "Epoch 13 - Generator loss: 0.084\tDiscriminator loss: 1.055\tReward loss: 0.028\tTotal loss: 1.167\tBest total loss: 1.167\n",
      "Epoch 14 - Generator loss: 0.081\tDiscriminator loss: 1.050\tReward loss: 0.026\tTotal loss: 1.157\tBest total loss: 1.157\n",
      "Epoch 15 - Generator loss: 0.080\tDiscriminator loss: 1.046\tReward loss: 0.024\tTotal loss: 1.149\tBest total loss: 1.149\n",
      "Epoch 16 - Generator loss: 0.078\tDiscriminator loss: 1.042\tReward loss: 0.022\tTotal loss: 1.142\tBest total loss: 1.142\n",
      "Epoch 17 - Generator loss: 0.076\tDiscriminator loss: 1.039\tReward loss: 0.021\tTotal loss: 1.136\tBest total loss: 1.136\n",
      "Epoch 18 - Generator loss: 0.076\tDiscriminator loss: 1.036\tReward loss: 0.020\tTotal loss: 1.132\tBest total loss: 1.132\n",
      "Epoch 19 - Generator loss: 0.076\tDiscriminator loss: 1.033\tReward loss: 0.022\tTotal loss: 1.131\tBest total loss: 1.131\n",
      "Epoch 20 - Generator loss: 0.073\tDiscriminator loss: 1.035\tReward loss: 0.021\tTotal loss: 1.129\tBest total loss: 1.129\n",
      "Epoch 21 - Generator loss: 0.072\tDiscriminator loss: 1.032\tReward loss: 0.020\tTotal loss: 1.125\tBest total loss: 1.125\n",
      "Epoch 22 - Generator loss: 0.072\tDiscriminator loss: 1.030\tReward loss: 0.019\tTotal loss: 1.121\tBest total loss: 1.121\n",
      "Epoch 23 - Generator loss: 0.073\tDiscriminator loss: 1.027\tReward loss: 0.018\tTotal loss: 1.118\tBest total loss: 1.118\n",
      "Epoch 24 - Generator loss: 0.073\tDiscriminator loss: 1.025\tReward loss: 0.018\tTotal loss: 1.115\tBest total loss: 1.115\n",
      "Epoch 25 - Generator loss: 0.075\tDiscriminator loss: 1.022\tReward loss: 0.017\tTotal loss: 1.113\tBest total loss: 1.113\n",
      "Epoch 26 - Generator loss: 0.076\tDiscriminator loss: 1.019\tReward loss: 0.016\tTotal loss: 1.112\tBest total loss: 1.112\n",
      "Epoch 27 - Generator loss: 0.079\tDiscriminator loss: 1.016\tReward loss: 0.015\tTotal loss: 1.111\tBest total loss: 1.111\n",
      "Epoch 28 - Generator loss: 0.083\tDiscriminator loss: 1.013\tReward loss: 0.015\tTotal loss: 1.110\tBest total loss: 1.110\n",
      "Epoch 29 - Generator loss: 0.086\tDiscriminator loss: 1.010\tReward loss: 0.014\tTotal loss: 1.110\tBest total loss: 1.110\n",
      "Epoch 30 - Generator loss: 0.084\tDiscriminator loss: 1.012\tReward loss: 0.013\tTotal loss: 1.109\tBest total loss: 1.109\n",
      "Epoch 31 - Generator loss: 0.089\tDiscriminator loss: 1.009\tReward loss: 0.013\tTotal loss: 1.110\tBest total loss: 1.109\n",
      "Epoch 32 - Generator loss: 0.095\tDiscriminator loss: 1.005\tReward loss: 0.012\tTotal loss: 1.112\tBest total loss: 1.109\n",
      "Epoch 33 - Generator loss: 0.103\tDiscriminator loss: 1.000\tReward loss: 0.012\tTotal loss: 1.115\tBest total loss: 1.109\n",
      "Epoch 34 - Generator loss: 0.113\tDiscriminator loss: 0.995\tReward loss: 0.012\tTotal loss: 1.119\tBest total loss: 1.109\n",
      "Epoch 35 - Generator loss: 0.124\tDiscriminator loss: 0.989\tReward loss: 0.012\tTotal loss: 1.126\tBest total loss: 1.109\n"
     ]
    }
   ],
   "source": [
    "generator_optimizer = torch.optim.RMSprop(generator.parameters())\n",
    "discriminator_optimizer = torch.optim.RMSprop(discriminator.parameters())\n",
    "reward_optimizer = torch.optim.RMSprop(reward_network.parameters())\n",
    "\n",
    "EARLY_STOPPING_PATIENCE = 5\n",
    "FAKE_BATCH_SIZE = real_adj.size(0)\n",
    "\n",
    "best_discriminator = {\n",
    "    'loss': None,\n",
    "    'model_state': None\n",
    "}\n",
    "\n",
    "best_generator = {\n",
    "    'loss': None,\n",
    "    'model_state': None\n",
    "}\n",
    "\n",
    "best_reward = {\n",
    "    'loss': None,\n",
    "    'model_state': None\n",
    "}\n",
    "\n",
    "discriminator_losses = []\n",
    "generator_losses = []\n",
    "reward_losses = []\n",
    "\n",
    "total_losses = []\n",
    "\n",
    "current_patience = EARLY_STOPPING_PATIENCE\n",
    "epoch = 1\n",
    "while True:\n",
    "    ############ Discriminator ############\n",
    "    discriminator.train()\n",
    "    discriminator_optimizer.zero_grad()\n",
    "    \n",
    "    # Pass real samples to the discriminator\n",
    "    out = discriminator(real_adj, real_feats)\n",
    "    # Get the loss\n",
    "    ground_truth = torch.ones(real_adj.size(0), 1).to(device)\n",
    "    discriminator_loss = torch.nn.functional.l1_loss(out, ground_truth)\n",
    "        \n",
    "    # Pass fake samples to the discriminator\n",
    "    fake_adj, fake_feat = generator(prior.sample((FAKE_BATCH_SIZE,)).to(device))\n",
    "    out = discriminator(fake_adj, fake_feat)\n",
    "    # Get the loss\n",
    "    ground_truth = torch.zeros(FAKE_BATCH_SIZE, 1).to(device)\n",
    "    discriminator_loss += torch.nn.functional.l1_loss(out, ground_truth)\n",
    "\n",
    "    # Save best discriminator model\n",
    "    if best_discriminator['loss'] == None or discriminator_loss < best_discriminator['loss']:\n",
    "        best_discriminator['loss'] = discriminator_loss.detach()\n",
    "        best_discriminator['model_state'] = discriminator.state_dict()\n",
    "    \n",
    "    # Keep track of loss at each step\n",
    "    discriminator_losses.append(discriminator_loss.detach())\n",
    "    \n",
    "    # Back propagation\n",
    "    \n",
    "    discriminator_loss.backward()\n",
    "    discriminator_optimizer.step()\n",
    "    \n",
    "    # reward_loss.backward()\n",
    "    # reward_optimizer.step()\n",
    "    \n",
    "    \n",
    "    ############ Generator ############\n",
    "    generator.train()\n",
    "    generator_optimizer.zero_grad()\n",
    "    \n",
    "    # Generate fake samples\n",
    "    fake_adj, fake_feat = generator(prior.sample((FAKE_BATCH_SIZE,)).to(device))\n",
    "    \n",
    "    # Pass fake samples to discriminator\n",
    "    out = discriminator(fake_adj, fake_feat)\n",
    "    \n",
    "    # Get the loss\n",
    "    ground_truth = torch.ones(FAKE_BATCH_SIZE, 1).to(device)\n",
    "    generator_loss = torch.nn.functional.l1_loss(out, ground_truth)\n",
    "    \n",
    "    reward = reward_network(fake_adj, fake_feat)\n",
    "    reward_ground_truth = validity_score(out.clone())\n",
    "    generator_loss += torch.nn.functional.l1_loss(reward, reward_ground_truth)\n",
    "\n",
    "    \n",
    "    # Save best discriminator model\n",
    "    if best_generator['loss'] == None or generator_loss < best_generator['loss']:\n",
    "        best_generator['loss'] = generator_loss.detach()\n",
    "        best_generator['model_state'] = generator.state_dict()\n",
    "\n",
    "    # Keep track of loss at each step\n",
    "    generator_losses.append(generator_loss.detach())\n",
    "\n",
    "    # Back propagation\n",
    "    generator_loss.backward()\n",
    "    generator_optimizer.step()\n",
    "    \n",
    "    ############ Reward ############\n",
    "    reward_network.train()\n",
    "    reward_optimizer.zero_grad()\n",
    "    \n",
    "    # Generate fake samples\n",
    "    fake_adj, fake_feat = generator(prior.sample((FAKE_BATCH_SIZE,)).to(device))\n",
    "    \n",
    "    # Pass fake samples to discriminator\n",
    "    out = discriminator(fake_adj, fake_feat)\n",
    "\n",
    "    reward = reward_network(fake_adj, fake_feat)\n",
    "    reward_ground_truth = validity_score(out.detach())\n",
    "    reward_loss = torch.nn.functional.l1_loss(reward, reward_ground_truth)\n",
    "    \n",
    "    # Save best reward model\n",
    "    if best_reward['loss'] == None or reward_loss < best_reward['loss']:\n",
    "        best_reward['loss'] = reward_loss.detach()\n",
    "        best_reward['model_state'] = reward_network.state_dict()\n",
    "\n",
    "    # Keep track of loss at each step\n",
    "    reward_losses.append(reward_loss.detach())\n",
    "\n",
    "    # Back propagation\n",
    "    reward_loss.backward()\n",
    "    reward_optimizer.step()\n",
    "    \n",
    "    \n",
    "    # Control training loop\n",
    "    current_total_loss = float(discriminator_loss + generator_loss + reward_loss)\n",
    "    total_losses.append(current_total_loss)\n",
    "    best_total_loss = min(total_losses)\n",
    "    if current_total_loss <= best_total_loss:\n",
    "        current_patience = EARLY_STOPPING_PATIENCE\n",
    "    else:\n",
    "        current_patience -= 1\n",
    "    if current_patience < 0:\n",
    "        break\n",
    "\n",
    "    print(f'Epoch {epoch} - Generator loss: {float(generator_loss):.3f}\\tDiscriminator loss: {float(discriminator_loss):.3f}\\tReward loss: {float(reward_loss):.3f}\\tTotal loss: {current_total_loss:.3f}\\tBest total loss: {best_total_loss:.3f}')\n",
    "    epoch += 1"
   ]
  },
  {
   "cell_type": "markdown",
   "id": "124606a8-3d0b-4743-9318-daade4ef1e44",
   "metadata": {},
   "source": [
    "### Plot training loss"
   ]
  },
  {
   "cell_type": "code",
   "execution_count": 18,
   "id": "65c7e7e4-2dac-4f7e-b890-9e39e61b9b94",
   "metadata": {},
   "outputs": [],
   "source": [
    "discriminator_losses = [float(loss.cpu().detach().numpy()) for loss in discriminator_losses]\n",
    "generator_losses = [float(loss.cpu().detach().numpy()) for loss in generator_losses]\n",
    "reward_losses = [float(loss.cpu().detach().numpy()) for loss in reward_losses]"
   ]
  },
  {
   "cell_type": "code",
   "execution_count": 19,
   "id": "596cf213-b8da-4430-a812-f2f24928825a",
   "metadata": {},
   "outputs": [
    {
     "data": {
      "image/png": "[encoded data removed]",
      "text/plain": [
       "<Figure size 600x400 with 1 Axes>"
      ]
     },
     "metadata": {
      "needs_background": "light"
     },
     "output_type": "display_data"
    }
   ],
   "source": [
    "plt.plot(range(1, len(discriminator_losses) + 1), discriminator_losses, label='Discriminator Loss')\n",
    "plt.plot(range(1, len(generator_losses) + 1), generator_losses, label='Generator Loss')\n",
    "plt.plot(range(1, len(reward_losses) + 1), reward_losses, label='Reward Loss')\n",
    "plt.plot(range(1, len(total_losses) + 1), total_losses, label='Total Loss')\n",
    "plt.xlabel('Epochs')\n",
    "plt.ylabel(r'$L_1$ Loss')\n",
    "plt.title('Loss')\n",
    "plt.legend()\n",
    "plt.gcf().set_dpi(100)\n",
    "plt.show()"
   ]
  },
  {
   "cell_type": "markdown",
   "id": "28a6e850-899c-4f37-8852-e2e219a0537b",
   "metadata": {},
   "source": [
    "### Load best models"
   ]
  },
  {
   "cell_type": "code",
   "execution_count": 20,
   "id": "0b316d16-a80a-4a4f-9f03-35fdc6ccee62",
   "metadata": {},
   "outputs": [
    {
     "data": {
      "text/plain": [
       "<All keys matched successfully>"
      ]
     },
     "execution_count": 20,
     "metadata": {},
     "output_type": "execute_result"
    }
   ],
   "source": [
    "generator.load_state_dict(best_generator['model_state'])\n",
    "discriminator.load_state_dict(best_discriminator['model_state'])\n",
    "reward_network.load_state_dict(best_reward['model_state'])"
   ]
  },
  {
   "cell_type": "markdown",
   "id": "da3f22d2-9adb-456c-aa8a-4333d5ba3b92",
   "metadata": {},
   "source": [
    "### An example - generator receives 10 gaussian samples and generates 10 graphs, discriminator decides whether these 10 samples are real or not"
   ]
  },
  {
   "cell_type": "code",
   "execution_count": 21,
   "id": "471d2af5-fd50-4652-98a7-d3166835dbf4",
   "metadata": {},
   "outputs": [
    {
     "name": "stdout",
     "output_type": "stream",
     "text": [
      "Discriminator:\n",
      "tensor([[0.8766],\n",
      "        [0.8766],\n",
      "        [0.8765],\n",
      "        [0.8765],\n",
      "        [0.8765],\n",
      "        [0.8750],\n",
      "        [0.8767],\n",
      "        [0.8764],\n",
      "        [0.8764],\n",
      "        [0.8765]], device='cuda:0', grad_fn=<SigmoidBackward0>)\n",
      "Reward:\n",
      "tensor(0.9885, device='cuda:0', grad_fn=<SigmoidBackward0>)\n"
     ]
    }
   ],
   "source": [
    "adj, feat = generator(prior.sample((10,)).to(device))\n",
    "print('Discriminator:')\n",
    "print(discriminator(adj, feat))\n",
    "print('Reward:')\n",
    "print(reward_network(adj, feat))"
   ]
  }
 ],
 "metadata": {
  "kernelspec": {
   "display_name": "MolGenerator:Python",
   "language": "python",
   "name": "conda-env-MolGenerator-py"
  },
  "language_info": {
   "codemirror_mode": {
    "name": "ipython",
    "version": 3
   },
   "file_extension": ".py",
   "mimetype": "text/x-python",
   "name": "python",
   "nbconvert_exporter": "python",
   "pygments_lexer": "ipython3",
   "version": "3.9.10"
  },
  "toc-showtags": false
 },
 "nbformat": 4,
 "nbformat_minor": 5
}
