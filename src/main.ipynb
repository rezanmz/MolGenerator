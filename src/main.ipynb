{
 "cells": [
  {
   "cell_type": "markdown",
   "id": "ed400b2a-4f31-4565-ab0b-c638509a5d84",
   "metadata": {
    "tags": []
   },
   "source": [
    "# Imports"
   ]
  },
  {
   "cell_type": "code",
   "execution_count": 1,
   "id": "4bdf5477-9b95-4810-9ae0-511cf0d8ce03",
   "metadata": {
    "tags": []
   },
   "outputs": [],
   "source": [
    "import torch.nn as nn\n",
    "from torch_geometric.nn import RGCNConv\n",
    "from torch_geometric.datasets import ZINC\n",
    "import torch\n",
    "from tqdm import tqdm"
   ]
  },
  {
   "cell_type": "markdown",
   "id": "a655a77c-5ec7-4038-b7b7-cc185ded94c7",
   "metadata": {
    "tags": []
   },
   "source": [
    "# RealNVP"
   ]
  },
  {
   "cell_type": "markdown",
   "id": "955d39c8-63c2-4cb3-b01a-7bfbcbf30c87",
   "metadata": {
    "tags": []
   },
   "source": [
    "## Fully connected neural network for the base network"
   ]
  },
  {
   "cell_type": "code",
   "execution_count": 2,
   "id": "9787faeb-54e5-46bd-aa90-34c7c792f20f",
   "metadata": {
    "tags": []
   },
   "outputs": [],
   "source": [
    "class FCNN(nn.Module):\n",
    "    def __init__(self, in_dim, out_dim, hidden_dim):\n",
    "        super().__init__()\n",
    "        self.network = nn.Sequential(\n",
    "            nn.Linear(in_dim, hidden_dim),\n",
    "            nn.Tanh(),\n",
    "            nn.Linear(hidden_dim, hidden_dim),\n",
    "            nn.Tanh(),\n",
    "            nn.Linear(hidden_dim, out_dim),\n",
    "        )\n",
    "        \n",
    "    def forward(self, x):\n",
    "        return self.network(x)"
   ]
  },
  {
   "cell_type": "markdown",
   "id": "0ecf98c3-d87d-47ba-91e1-59b7c40ad976",
   "metadata": {
    "tags": []
   },
   "source": [
    "## Flow"
   ]
  },
  {
   "cell_type": "code",
   "execution_count": 3,
   "id": "d35c7c86-870e-4e9c-b555-a6c699d5a14f",
   "metadata": {
    "tags": []
   },
   "outputs": [],
   "source": [
    "class RealNVP(nn.Module):\n",
    "    def __init__(self, dim, hidden_dim=8, base_network=FCNN):\n",
    "        super().__init__()\n",
    "        self.dim = dim\n",
    "        self.t1 = base_network(dim // 2, dim // 2, hidden_dim)\n",
    "        self.s1 = base_network(dim // 2, dim // 2, hidden_dim)\n",
    "        self.t2 = base_network(dim // 2, dim // 2, hidden_dim)\n",
    "        self.s2 = base_network(dim // 2, dim // 2, hidden_dim)\n",
    "\n",
    "    def forward(self, x):\n",
    "        lower, upper = x[:, :self.dim // 2], x[:, self.dim // 2:]\n",
    "        t1_transformed = self.t1(lower)\n",
    "        s1_transformed = self.s1(lower)\n",
    "        upper = t1_transformed + upper * torch.exp(s1_transformed)\n",
    "        t2_transformed = self.t2(upper)\n",
    "        s2_transformed = self.s2(upper)\n",
    "        lower = t2_transformed + lower * torch.exp(s2_transformed)\n",
    "        z = torch.cat([lower, upper], dim=1)\n",
    "        log_det = torch.sum(s1_transformed, dim=1) + torch.sum(s2_transformed, dim=1)\n",
    "        return z, log_det\n",
    "\n",
    "    def inverse(self, z):\n",
    "        lower, upper = z[:, :self.dim // 2], z[:, self.dim // 2:]\n",
    "        t2_transformed = self.t2(upper)\n",
    "        s2_transformed = self.s2(upper)\n",
    "        lower = (lower - t2_transformed) * torch.exp(-s2_transformed)\n",
    "        t1_transformed = self.t1(lower)\n",
    "        s1_transformed = self.s1(lower)\n",
    "        upper = (upper - t1_transformed) * torch.exp(-s1_transformed)\n",
    "        x = torch.cat([lower, upper], dim=1)\n",
    "        log_det = torch.sum(-s1_transformed, dim=1) + torch.sum(-s2_transformed, dim=1)\n",
    "        return x, log_det"
   ]
  },
  {
   "cell_type": "markdown",
   "id": "1b1414f2-d767-42e2-b5ad-b6ee8477a463",
   "metadata": {
    "tags": []
   },
   "source": [
    "# GAN"
   ]
  },
  {
   "cell_type": "markdown",
   "id": "bf68385a-929d-498b-8658-f43e11937922",
   "metadata": {},
   "source": [
    "## Generator"
   ]
  },
  {
   "cell_type": "code",
   "execution_count": 4,
   "id": "b74a3a69-f9f3-4fbc-9c5e-9f0dd6d818f1",
   "metadata": {
    "tags": []
   },
   "outputs": [],
   "source": [
    "class Generator(nn.Module):\n",
    "    def __init__(\n",
    "        self,\n",
    "        input_dim,\n",
    "        num_nodes,\n",
    "        num_features, \n",
    "        num_edge_types,\n",
    "    ):\n",
    "        super().__init__()\n",
    "        self.input_dim = input_dim\n",
    "        self.flow_model = RealNVP(input_dim)\n",
    "        self.num_nodes = num_nodes\n",
    "        self.num_features = num_features\n",
    "        self.num_edge_types = num_edge_types\n",
    "        \n",
    "        self.adj = nn.Linear(input_dim, num_nodes * num_nodes * num_edge_types)\n",
    "        self.feat = nn.Linear(input_dim, num_nodes * num_features)\n",
    "    def forward(self, x):\n",
    "        z, _ = self.flow_model(x)\n",
    "        \n",
    "        adj = self.adj(z).view(x.shape[0], self.num_nodes, self.num_nodes, self.num_edge_types)\n",
    "        adj = torch.nn.functional.gumbel_softmax(adj)\n",
    "        \n",
    "        feat = self.feat(z).view(x.shape[0], self.num_nodes, self.num_features)\n",
    "        feat = torch.nn.functional.gumbel_softmax(feat)\n",
    "        \n",
    "        \n",
    "        return adj, feat"
   ]
  },
  {
   "cell_type": "markdown",
   "id": "26ead078-1f8f-4a2a-8d9d-c6ee03f8abc8",
   "metadata": {},
   "source": [
    "## Discriminator"
   ]
  },
  {
   "cell_type": "code",
   "execution_count": 5,
   "id": "22fcf098-1146-4fbc-b461-a8e6b3a48201",
   "metadata": {
    "tags": []
   },
   "outputs": [],
   "source": [
    "class Discriminator(nn.Module):\n",
    "    def __init__(self, num_features, num_edge_types):\n",
    "        super().__init__()\n",
    "        # Use Relational GCN to support multiple edge types - same layer as MolGAN paper\n",
    "        self.gcn = RGCNConv(num_features, 1, num_edge_types)\n",
    "        self.activation = torch.nn.Sigmoid()\n",
    "    def forward(self, data):\n",
    "        x, edge_index, edge_type = data['x'], data['edge_index'], data['edge_type']\n",
    "        out = self.gcn(x, edge_index, edge_type)\n",
    "        return self.activation(out)"
   ]
  },
  {
   "cell_type": "markdown",
   "id": "dcdbf62a-b1e9-4e79-b916-48455ebfaeec",
   "metadata": {
    "tags": []
   },
   "source": [
    "# Train"
   ]
  },
  {
   "cell_type": "markdown",
   "id": "ca701f47-6b98-48ad-8ca7-ad3b76f25dc5",
   "metadata": {
    "tags": []
   },
   "source": [
    "## Load dataset"
   ]
  },
  {
   "cell_type": "code",
   "execution_count": 6,
   "id": "8a41e64a-e351-4b62-94b0-d543eccca6c8",
   "metadata": {
    "tags": []
   },
   "outputs": [],
   "source": [
    "dataset = ZINC('../dataset')"
   ]
  },
  {
   "cell_type": "markdown",
   "id": "5e43aea0-60ad-4bd7-9d0f-fb977c8aafa3",
   "metadata": {},
   "source": [
    "### For now, filter molecules to have the same number of atoms"
   ]
  },
  {
   "cell_type": "code",
   "execution_count": 7,
   "id": "88bec322-0fcb-4831-b552-63fbe6b8d2d8",
   "metadata": {
    "tags": []
   },
   "outputs": [],
   "source": [
    "num_nodes = {}\n",
    "for mol in dataset:\n",
    "    if mol.num_nodes not in num_nodes:\n",
    "        num_nodes[mol.num_nodes] = 0\n",
    "    num_nodes[mol.num_nodes] += 1\n",
    "\n",
    "# Select size which has the most samples in the dataset\n",
    "most_samples = sorted(num_nodes, key=num_nodes.get, reverse=True)[0]\n",
    "\n",
    "# Filter\n",
    "dataset = list(filter(lambda mol: mol.num_nodes == most_samples, dataset))"
   ]
  },
  {
   "cell_type": "markdown",
   "id": "0c3aee5b-ef99-4138-b510-7cad2d49ac2f",
   "metadata": {},
   "source": [
    "### Convert atom type to one-hot vector"
   ]
  },
  {
   "cell_type": "code",
   "execution_count": 8,
   "id": "951093f4-8b85-4a78-b4ec-66249653ca77",
   "metadata": {},
   "outputs": [],
   "source": [
    "# Find out how many types of atoms we have in the dataset\n",
    "num_node_types = 0\n",
    "for mol in dataset:\n",
    "    num_node_types = max(int(mol.x.max()), num_node_types)\n",
    "num_node_types += 1\n",
    "\n",
    "for mol in dataset:\n",
    "    new_x = torch.zeros(mol.num_nodes, num_node_types)\n",
    "    for i, atom_type in enumerate(mol.x):\n",
    "        new_x[i] = torch.eye(num_node_types)[atom_type]\n",
    "    mol.x = new_x"
   ]
  },
  {
   "cell_type": "markdown",
   "id": "0d50a123-e084-4313-95a8-6d3fc87f8197",
   "metadata": {},
   "source": [
    "## Initialize models"
   ]
  },
  {
   "cell_type": "code",
   "execution_count": 9,
   "id": "ccb994ec-2a48-4969-8cdc-6499758c68a1",
   "metadata": {
    "tags": []
   },
   "outputs": [],
   "source": [
    "DISTRIBUTION_DIM = 64\n",
    "MOL_SIZE = dataset[0].num_nodes\n",
    "NUM_FEATURES = dataset[0].num_node_features\n",
    "NUM_EDGE_TYPES = 3"
   ]
  },
  {
   "cell_type": "code",
   "execution_count": 10,
   "id": "67fb5d58-bc03-4455-8292-5ae4c9595057",
   "metadata": {
    "tags": []
   },
   "outputs": [],
   "source": [
    "# Gaussian distribution with mean=0 and std=1 as prior distribution\n",
    "prior = torch.distributions.MultivariateNormal(torch.zeros(DISTRIBUTION_DIM), torch.eye(DISTRIBUTION_DIM))\n",
    "\n",
    "# Generator\n",
    "generator = Generator(DISTRIBUTION_DIM, MOL_SIZE, NUM_FEATURES, NUM_EDGE_TYPES)\n",
    "\n",
    "# Discriminator\n",
    "discriminator = Discriminator(NUM_FEATURES, NUM_EDGE_TYPES)"
   ]
  },
  {
   "cell_type": "code",
   "execution_count": 11,
   "id": "6d13f79c-2636-4503-95dc-89ed6e5940d5",
   "metadata": {},
   "outputs": [],
   "source": [
    "adj, feat = generator(prior.sample((10,)))"
   ]
  },
  {
   "cell_type": "markdown",
   "id": "302f542e-ef3b-4287-8d01-296bc3f1c5d8",
   "metadata": {},
   "source": [
    "# TODO: Convert adj to edge_index without breaking the computation graph"
   ]
  }
 ],
 "metadata": {
  "kernelspec": {
   "display_name": "Python 3 (ipykernel)",
   "language": "python",
   "name": "python3"
  },
  "language_info": {
   "codemirror_mode": {
    "name": "ipython",
    "version": 3
   },
   "file_extension": ".py",
   "mimetype": "text/x-python",
   "name": "python",
   "nbconvert_exporter": "python",
   "pygments_lexer": "ipython3",
   "version": "3.7.11"
  },
  "toc-showtags": false
 },
 "nbformat": 4,
 "nbformat_minor": 5
}
